{
  "nbformat": 4,
  "nbformat_minor": 0,
  "metadata": {
    "colab": {
      "provenance": [],
      "authorship_tag": "ABX9TyMHnbGtySrwFdxKJAQ8SUsO",
      "include_colab_link": true
    },
    "kernelspec": {
      "name": "python3",
      "display_name": "Python 3"
    },
    "language_info": {
      "name": "python"
    }
  },
  "cells": [
    {
      "cell_type": "markdown",
      "metadata": {
        "id": "view-in-github",
        "colab_type": "text"
      },
      "source": [
        "<a href=\"https://colab.research.google.com/github/mithlohar144/Air_Quality_Prediction_System/blob/main/db.ipynb\" target=\"_parent\"><img src=\"https://colab.research.google.com/assets/colab-badge.svg\" alt=\"Open In Colab\"/></a>"
      ]
    },
    {
      "cell_type": "code",
      "execution_count": null,
      "metadata": {
        "colab": {
          "base_uri": "https://localhost:8080/",
          "height": 228
        },
        "id": "tvfCmlFXQntu",
        "outputId": "a880e05b-6a11-412c-dd40-4b88c427027c"
      },
      "outputs": [
        {
          "name": "stdout",
          "output_type": "stream",
          "text": [
            "enter name: dhnoi\n"
          ]
        },
        {
          "output_type": "error",
          "ename": "OperationalError",
          "evalue": "no such table: members",
          "traceback": [
            "\u001b[0;31m---------------------------------------------------------------------------\u001b[0m",
            "\u001b[0;31mOperationalError\u001b[0m                          Traceback (most recent call last)",
            "\u001b[0;32m/tmp/ipython-input-2037681564.py\u001b[0m in \u001b[0;36m<cell line: 0>\u001b[0;34m()\u001b[0m\n\u001b[1;32m      8\u001b[0m \u001b[0;31m#executing query\u001b[0m\u001b[0;34m\u001b[0m\u001b[0;34m\u001b[0m\u001b[0m\n\u001b[1;32m      9\u001b[0m \u001b[0mcurschool\u001b[0m\u001b[0;34m=\u001b[0m\u001b[0mMySchool\u001b[0m\u001b[0;34m.\u001b[0m\u001b[0mcursor\u001b[0m\u001b[0;34m(\u001b[0m\u001b[0;34m)\u001b[0m\u001b[0;34m\u001b[0m\u001b[0;34m\u001b[0m\u001b[0m\n\u001b[0;32m---> 10\u001b[0;31m \u001b[0mcurschool\u001b[0m\u001b[0;34m.\u001b[0m\u001b[0mexecute\u001b[0m\u001b[0;34m(\u001b[0m\u001b[0msql\u001b[0m\u001b[0;34m)\u001b[0m\u001b[0;34m\u001b[0m\u001b[0;34m\u001b[0m\u001b[0m\n\u001b[0m\u001b[1;32m     11\u001b[0m \u001b[0mrecord\u001b[0m\u001b[0;34m=\u001b[0m\u001b[0mcurschool\u001b[0m\u001b[0;34m.\u001b[0m\u001b[0mfetchone\u001b[0m\u001b[0;34m(\u001b[0m\u001b[0;34m)\u001b[0m\u001b[0;34m\u001b[0m\u001b[0;34m\u001b[0m\u001b[0m\n\u001b[1;32m     12\u001b[0m \u001b[0mprint\u001b[0m \u001b[0;34m(\u001b[0m\u001b[0mrecord\u001b[0m\u001b[0;34m)\u001b[0m\u001b[0;34m\u001b[0m\u001b[0;34m\u001b[0m\u001b[0m\n",
            "\u001b[0;31mOperationalError\u001b[0m: no such table: members"
          ]
        }
      ],
      "source": [
        "#UPDATING RECORD : Updating a Record - Example\n",
        "import sqlite3\n",
        "MySchool=sqlite3.connect('infosys_project.db')\n",
        "#take input of the name\n",
        "nm=input(\"enter name: \")   # displays a record connected to a name that will be input by a user.\n",
        "#create a string of select query to fetch the record\n",
        "sql=\"SELECT * from members WHERE name='\"+nm+\"';\"\n",
        "#executing query\n",
        "curschool=MySchool.cursor()\n",
        "curschool.execute(sql)\n",
        "record=curschool.fetchone()\n",
        "print (record)\n",
        "\n",
        "#another input is accepted from the user as a replacement value for marks field. It is used to update the\n",
        "    #corresponding record in the student table.\n",
        "#Then run & marks gets updated.\n",
        "m=float(input(\"enter new marks: \"))\n",
        "sql=\"UPDATE student2 SET marks='\"+str(m)+\"' WHERE name='\"+nm+\"';\"\n",
        "try:\n",
        "    curschool.execute(sql)\n",
        "    MySchool.commit()\n",
        "    print (\"record updated successfully\")\n",
        "except:\n",
        "    print (\"error in update operation\")\n",
        "    MySchool.rollback()"
      ]
    },
    {
      "cell_type": "markdown",
      "source": [
        "1.fetchone() - This method fetches the next available record from the result set.\n",
        "It is a tuple consisting of values of each column of the fetched record. The Following code snippet retrieves\n",
        "and prints one record at a time till the result set is exhausted. '''\n"
      ],
      "metadata": {
        "id": "LF6_oo6lRt48"
      }
    },
    {
      "cell_type": "code",
      "source": [
        "\n",
        "import sqlite3\n",
        "MySchool=sqlite3.connect('infosys_project.db')\n",
        "sql=\"SELECT * from student1;\"\n",
        "curschool=MySchool.cursor()\n",
        "curschool.execute(sql)\n",
        "while True:\n",
        "    record=curschool.fetchone()\n",
        "    if record==None:\n",
        "        break\n",
        "    print (record)\n",
        "''' #2. fetchall() -  This method fetches all the remaining records in the form of a list of tuples.\n",
        "Each tuple corresponds to one record and contains values of each column in the table. The following code snippet\n",
        "fetches all records and prints them one at a time by using the 'for' statement.  '''\n",
        "print('===============')\n",
        "import sqlite3\n",
        "MySchool=sqlite3.connect('infosys_project.db')\n",
        "sql=\"SELECT * from student1;\"\n",
        "curschool=MySchool.cursor()\n",
        "curschool.execute(sql)\n",
        "result=curschool.fetchall()\n",
        "for record in result:\n",
        "    print (record)"
      ],
      "metadata": {
        "colab": {
          "base_uri": "https://localhost:8080/",
          "height": 211
        },
        "id": "daKJHQeORBzX",
        "outputId": "79e23b98-b469-442b-b05e-4844bbc2f117"
      },
      "execution_count": null,
      "outputs": [
        {
          "output_type": "error",
          "ename": "OperationalError",
          "evalue": "no such table: student1",
          "traceback": [
            "\u001b[0;31m---------------------------------------------------------------------------\u001b[0m",
            "\u001b[0;31mOperationalError\u001b[0m                          Traceback (most recent call last)",
            "\u001b[0;32m/tmp/ipython-input-1556006513.py\u001b[0m in \u001b[0;36m<cell line: 0>\u001b[0;34m()\u001b[0m\n\u001b[1;32m      3\u001b[0m \u001b[0msql\u001b[0m\u001b[0;34m=\u001b[0m\u001b[0;34m\"SELECT * from student1;\"\u001b[0m\u001b[0;34m\u001b[0m\u001b[0;34m\u001b[0m\u001b[0m\n\u001b[1;32m      4\u001b[0m \u001b[0mcurschool\u001b[0m\u001b[0;34m=\u001b[0m\u001b[0mMySchool\u001b[0m\u001b[0;34m.\u001b[0m\u001b[0mcursor\u001b[0m\u001b[0;34m(\u001b[0m\u001b[0;34m)\u001b[0m\u001b[0;34m\u001b[0m\u001b[0;34m\u001b[0m\u001b[0m\n\u001b[0;32m----> 5\u001b[0;31m \u001b[0mcurschool\u001b[0m\u001b[0;34m.\u001b[0m\u001b[0mexecute\u001b[0m\u001b[0;34m(\u001b[0m\u001b[0msql\u001b[0m\u001b[0;34m)\u001b[0m\u001b[0;34m\u001b[0m\u001b[0;34m\u001b[0m\u001b[0m\n\u001b[0m\u001b[1;32m      6\u001b[0m \u001b[0;32mwhile\u001b[0m \u001b[0;32mTrue\u001b[0m\u001b[0;34m:\u001b[0m\u001b[0;34m\u001b[0m\u001b[0;34m\u001b[0m\u001b[0m\n\u001b[1;32m      7\u001b[0m     \u001b[0mrecord\u001b[0m\u001b[0;34m=\u001b[0m\u001b[0mcurschool\u001b[0m\u001b[0;34m.\u001b[0m\u001b[0mfetchone\u001b[0m\u001b[0;34m(\u001b[0m\u001b[0;34m)\u001b[0m\u001b[0;34m\u001b[0m\u001b[0;34m\u001b[0m\u001b[0m\n",
            "\u001b[0;31mOperationalError\u001b[0m: no such table: student1"
          ]
        }
      ]
    },
    {
      "cell_type": "markdown",
      "source": [
        "Deleting a Record"
      ],
      "metadata": {
        "id": "C8_gCqxfSXuV"
      }
    },
    {
      "cell_type": "code",
      "source": [
        "#Deleting a Record\n",
        "\n",
        "import sqlite3\n",
        "\n",
        "MySchool=sqlite3.connect('anand.db')\n",
        "\n",
        "#accepting a name and retrieving the corresponding record\n",
        "\n",
        "nm=input(\"enter name: \")\n",
        "\n",
        "sql=\"SELECT * from student2 WHERE name='\"+nm+\"';\"\n",
        "\n",
        "curschool=MySchool.cursor()\n",
        "\n",
        "curschool.execute(sql)\n",
        "\n",
        "record=curschool.fetchone()\n",
        "\n",
        "print (record)\n",
        "\n",
        "#deleting the retrieved record\n",
        "\n",
        "res=input(\"do you want to delete this record?(Y/N): \")\n",
        "\n",
        "sql=\"DELETE FROM student2 WHERE name='\"+nm+\"';\"\n",
        "\n",
        "if res=='Y':\n",
        "\n",
        "    try:\n",
        "\n",
        "        curschool.execute(sql)\n",
        "\n",
        "        MySchool.commit()\n",
        "\n",
        "        print (\"record deleted successfully\")\n",
        "\n",
        "    except:\n",
        "\n",
        "        print (\"error in update operation\")\n",
        "\n",
        "        MySchool.rollback()\n",
        "\n",
        "MySchool.close()\n",
        "\n",
        "#you can verify in sqlite studio if record is deleted by refreshing\n"
      ],
      "metadata": {
        "id": "3jiu-pnPSGpx"
      },
      "execution_count": null,
      "outputs": []
    },
    {
      "cell_type": "code",
      "source": [
        "import sqlite3\n",
        "connection = sqlite3.connect(\"SQLite Test.db\")\n",
        "\n",
        "cursor = connection.execute(\"select *from dataset_1\")\n",
        "for row in cursor:\n",
        "    print(row)"
      ],
      "metadata": {
        "colab": {
          "base_uri": "https://localhost:8080/",
          "height": 211
        },
        "id": "7ySbEH4MeZ2S",
        "outputId": "4732e749-0ccf-4b58-c8b8-89242e75ee62"
      },
      "execution_count": null,
      "outputs": [
        {
          "output_type": "error",
          "ename": "OperationalError",
          "evalue": "no such table: dataset_1",
          "traceback": [
            "\u001b[0;31m---------------------------------------------------------------------------\u001b[0m",
            "\u001b[0;31mOperationalError\u001b[0m                          Traceback (most recent call last)",
            "\u001b[0;32m/tmp/ipython-input-35830031.py\u001b[0m in \u001b[0;36m<cell line: 0>\u001b[0;34m()\u001b[0m\n\u001b[1;32m      2\u001b[0m \u001b[0mconnection\u001b[0m \u001b[0;34m=\u001b[0m \u001b[0msqlite3\u001b[0m\u001b[0;34m.\u001b[0m\u001b[0mconnect\u001b[0m\u001b[0;34m(\u001b[0m\u001b[0;34m\"SQLite Test.db\"\u001b[0m\u001b[0;34m)\u001b[0m\u001b[0;34m\u001b[0m\u001b[0;34m\u001b[0m\u001b[0m\n\u001b[1;32m      3\u001b[0m \u001b[0;34m\u001b[0m\u001b[0m\n\u001b[0;32m----> 4\u001b[0;31m \u001b[0mcursor\u001b[0m \u001b[0;34m=\u001b[0m \u001b[0mconnection\u001b[0m\u001b[0;34m.\u001b[0m\u001b[0mexecute\u001b[0m\u001b[0;34m(\u001b[0m\u001b[0;34m\"select *from dataset_1\"\u001b[0m\u001b[0;34m)\u001b[0m\u001b[0;34m\u001b[0m\u001b[0;34m\u001b[0m\u001b[0m\n\u001b[0m\u001b[1;32m      5\u001b[0m \u001b[0;32mfor\u001b[0m \u001b[0mrow\u001b[0m \u001b[0;32min\u001b[0m \u001b[0mcursor\u001b[0m\u001b[0;34m:\u001b[0m\u001b[0;34m\u001b[0m\u001b[0;34m\u001b[0m\u001b[0m\n\u001b[1;32m      6\u001b[0m     \u001b[0mprint\u001b[0m\u001b[0;34m(\u001b[0m\u001b[0mrow\u001b[0m\u001b[0;34m)\u001b[0m\u001b[0;34m\u001b[0m\u001b[0;34m\u001b[0m\u001b[0m\n",
            "\u001b[0;31mOperationalError\u001b[0m: no such table: dataset_1"
          ]
        }
      ]
    },
    {
      "cell_type": "code",
      "source": [
        "#1.Simple linear plot\n",
        "import matplotlib\n",
        "# Use the 'Agg' backend which does not require a graphical interface\n",
        "matplotlib.use('Agg')\n",
        "import matplotlib.pyplot as plt    #from matplotlib import pyplot as plt\n",
        "plt.plot(range(10))   #matplotlib.pyplot.plot\n",
        "#[<matplotlib.lines.Line2D object at 0x0000012F96C69A00>]\n",
        "# You can save the plot to a file instead of showing it\n",
        "# plt.savefig('simple_plot.png')\n",
        "# If you want to display plots in Colab, you can use the default backend or specifically set it to 'inline'\n",
        "# matplotlib.use('inline')\n",
        "# plt.show()"
      ],
      "metadata": {
        "colab": {
          "base_uri": "https://localhost:8080/"
        },
        "id": "noVmBQr3e7Rd",
        "outputId": "b8108b46-7192-4324-d777-8a5197826611"
      },
      "execution_count": null,
      "outputs": [
        {
          "output_type": "execute_result",
          "data": {
            "text/plain": [
              "[<matplotlib.lines.Line2D at 0x78a54e5c9c70>]"
            ]
          },
          "metadata": {},
          "execution_count": 9
        }
      ]
    },
    {
      "cell_type": "code",
      "source": [
        "#1.Simple linear plot\n",
        "import matplotlib\n",
        "matplotlib.use('TkAgg')\n",
        "import matplotlib.pyplot as plt    #from matplotlib import pyplot as plt\n",
        "plt.plot(range(10))\n",
        "%matplotlib inline  #matplotlib.pyplot.plot\n",
        "#[<matplotlib.lines.Line2D object at 0x0000012F96C69A00>]\n",
        "plt.show()"
      ],
      "metadata": {
        "colab": {
          "base_uri": "https://localhost:8080/",
          "height": 530
        },
        "id": "1sauxwsDhTH6",
        "outputId": "9f743112-2244-4634-fdbc-d94fb913e4ff"
      },
      "execution_count": null,
      "outputs": [
        {
          "output_type": "error",
          "ename": "ImportError",
          "evalue": "Cannot load backend 'TkAgg' which requires the 'tk' interactive framework, as 'headless' is currently running",
          "traceback": [
            "\u001b[0;31m---------------------------------------------------------------------------\u001b[0m",
            "\u001b[0;31mImportError\u001b[0m                               Traceback (most recent call last)",
            "\u001b[0;32m/tmp/ipython-input-1943197866.py\u001b[0m in \u001b[0;36m<cell line: 0>\u001b[0;34m()\u001b[0m\n\u001b[1;32m      1\u001b[0m \u001b[0;31m#1.Simple linear plot\u001b[0m\u001b[0;34m\u001b[0m\u001b[0;34m\u001b[0m\u001b[0m\n\u001b[1;32m      2\u001b[0m \u001b[0;32mimport\u001b[0m \u001b[0mmatplotlib\u001b[0m\u001b[0;34m\u001b[0m\u001b[0;34m\u001b[0m\u001b[0m\n\u001b[0;32m----> 3\u001b[0;31m \u001b[0mmatplotlib\u001b[0m\u001b[0;34m.\u001b[0m\u001b[0muse\u001b[0m\u001b[0;34m(\u001b[0m\u001b[0;34m'TkAgg'\u001b[0m\u001b[0;34m)\u001b[0m\u001b[0;34m\u001b[0m\u001b[0;34m\u001b[0m\u001b[0m\n\u001b[0m\u001b[1;32m      4\u001b[0m \u001b[0;32mimport\u001b[0m \u001b[0mmatplotlib\u001b[0m\u001b[0;34m.\u001b[0m\u001b[0mpyplot\u001b[0m \u001b[0;32mas\u001b[0m \u001b[0mplt\u001b[0m    \u001b[0;31m#from matplotlib import pyplot as plt\u001b[0m\u001b[0;34m\u001b[0m\u001b[0;34m\u001b[0m\u001b[0m\n\u001b[1;32m      5\u001b[0m \u001b[0mplt\u001b[0m\u001b[0;34m.\u001b[0m\u001b[0mplot\u001b[0m\u001b[0;34m(\u001b[0m\u001b[0mrange\u001b[0m\u001b[0;34m(\u001b[0m\u001b[0;36m10\u001b[0m\u001b[0;34m)\u001b[0m\u001b[0;34m)\u001b[0m\u001b[0;34m\u001b[0m\u001b[0;34m\u001b[0m\u001b[0m\n",
            "\u001b[0;32m/usr/local/lib/python3.12/dist-packages/matplotlib/__init__.py\u001b[0m in \u001b[0;36muse\u001b[0;34m(backend, force)\u001b[0m\n\u001b[1;32m   1279\u001b[0m                 \u001b[0;31m# user does not have the libraries to support their\u001b[0m\u001b[0;34m\u001b[0m\u001b[0;34m\u001b[0m\u001b[0m\n\u001b[1;32m   1280\u001b[0m                 \u001b[0;31m# chosen backend installed.\u001b[0m\u001b[0;34m\u001b[0m\u001b[0;34m\u001b[0m\u001b[0m\n\u001b[0;32m-> 1281\u001b[0;31m                 \u001b[0mplt\u001b[0m\u001b[0;34m.\u001b[0m\u001b[0mswitch_backend\u001b[0m\u001b[0;34m(\u001b[0m\u001b[0mname\u001b[0m\u001b[0;34m)\u001b[0m\u001b[0;34m\u001b[0m\u001b[0;34m\u001b[0m\u001b[0m\n\u001b[0m\u001b[1;32m   1282\u001b[0m             \u001b[0;32mexcept\u001b[0m \u001b[0mImportError\u001b[0m\u001b[0;34m:\u001b[0m\u001b[0;34m\u001b[0m\u001b[0;34m\u001b[0m\u001b[0m\n\u001b[1;32m   1283\u001b[0m                 \u001b[0;32mif\u001b[0m \u001b[0mforce\u001b[0m\u001b[0;34m:\u001b[0m\u001b[0;34m\u001b[0m\u001b[0;34m\u001b[0m\u001b[0m\n",
            "\u001b[0;32m/usr/local/lib/python3.12/dist-packages/matplotlib/pyplot.py\u001b[0m in \u001b[0;36mswitch_backend\u001b[0;34m(newbackend)\u001b[0m\n\u001b[1;32m    431\u001b[0m         if (current_framework and required_framework\n\u001b[1;32m    432\u001b[0m                 and current_framework != required_framework):\n\u001b[0;32m--> 433\u001b[0;31m             raise ImportError(\n\u001b[0m\u001b[1;32m    434\u001b[0m                 \u001b[0;34m\"Cannot load backend {!r} which requires the {!r} interactive \"\u001b[0m\u001b[0;34m\u001b[0m\u001b[0;34m\u001b[0m\u001b[0m\n\u001b[1;32m    435\u001b[0m                 \"framework, as {!r} is currently running\".format(\n",
            "\u001b[0;31mImportError\u001b[0m: Cannot load backend 'TkAgg' which requires the 'tk' interactive framework, as 'headless' is currently running",
            "",
            "\u001b[0;31m---------------------------------------------------------------------------\u001b[0;32m\nNOTE: If your import is failing due to a missing package, you can\nmanually install dependencies using either !pip or !apt.\n\nTo view examples of installing some common dependencies, click the\n\"Open Examples\" button below.\n\u001b[0;31m---------------------------------------------------------------------------\u001b[0m\n"
          ],
          "errorDetails": {
            "actions": [
              {
                "action": "open_url",
                "actionText": "Open Examples",
                "url": "/notebooks/snippets/importing_libraries.ipynb"
              }
            ]
          }
        }
      ]
    },
    {
      "cell_type": "code",
      "source": [
        "import matplotlib.pyplot as plt\n",
        "x =[1,2,3,4]\n",
        "y =[1,4,2,3]\n",
        "plt.plot(x,y)\n",
        "plt.xlabel('X-axis')\n",
        "plt.ylabel('Y-axis')\n",
        "plt.title('My Plot')\n",
        "plt.show()\n"
      ],
      "metadata": {
        "id": "wYy-Y2hDhts-"
      },
      "execution_count": null,
      "outputs": []
    },
    {
      "cell_type": "code",
      "source": [
        "import matplotlib\n",
        "import matplotlib.pyplot as plt\n",
        "df['w'].hist()\n",
        "plt.show()"
      ],
      "metadata": {
        "colab": {
          "base_uri": "https://localhost:8080/",
          "height": 193
        },
        "id": "cGlpqbLRibsF",
        "outputId": "678c57e8-2561-4eed-8151-7cd160a606db"
      },
      "execution_count": null,
      "outputs": [
        {
          "output_type": "error",
          "ename": "NameError",
          "evalue": "name 'df' is not defined",
          "traceback": [
            "\u001b[0;31m---------------------------------------------------------------------------\u001b[0m",
            "\u001b[0;31mNameError\u001b[0m                                 Traceback (most recent call last)",
            "\u001b[0;32m/tmp/ipython-input-3805561278.py\u001b[0m in \u001b[0;36m<cell line: 0>\u001b[0;34m()\u001b[0m\n\u001b[1;32m      1\u001b[0m \u001b[0;32mimport\u001b[0m \u001b[0mmatplotlib\u001b[0m\u001b[0;34m\u001b[0m\u001b[0;34m\u001b[0m\u001b[0m\n\u001b[1;32m      2\u001b[0m \u001b[0;32mimport\u001b[0m \u001b[0mmatplotlib\u001b[0m\u001b[0;34m.\u001b[0m\u001b[0mpyplot\u001b[0m \u001b[0;32mas\u001b[0m \u001b[0mplt\u001b[0m\u001b[0;34m\u001b[0m\u001b[0;34m\u001b[0m\u001b[0m\n\u001b[0;32m----> 3\u001b[0;31m \u001b[0mdf\u001b[0m\u001b[0;34m[\u001b[0m\u001b[0;34m'w'\u001b[0m\u001b[0;34m]\u001b[0m\u001b[0;34m.\u001b[0m\u001b[0mhist\u001b[0m\u001b[0;34m(\u001b[0m\u001b[0;34m)\u001b[0m\u001b[0;34m\u001b[0m\u001b[0;34m\u001b[0m\u001b[0m\n\u001b[0m\u001b[1;32m      4\u001b[0m \u001b[0mplt\u001b[0m\u001b[0;34m.\u001b[0m\u001b[0mshow\u001b[0m\u001b[0;34m(\u001b[0m\u001b[0;34m)\u001b[0m\u001b[0;34m\u001b[0m\u001b[0;34m\u001b[0m\u001b[0m\n",
            "\u001b[0;31mNameError\u001b[0m: name 'df' is not defined"
          ]
        }
      ]
    },
    {
      "cell_type": "code",
      "source": [
        "import matplotlib.pyplot as plt\n",
        "\n",
        "\n",
        "x = ['Apples', 'Banana', 'Oranges']\n",
        "y= [15,20,25]\n",
        "plt.pie(y, labels=x)\n",
        "plt.title('simple pie cart')\n",
        "plt.show()"
      ],
      "metadata": {
        "id": "ZA5cR-zWizKl"
      },
      "execution_count": null,
      "outputs": []
    },
    {
      "cell_type": "code",
      "source": [],
      "metadata": {
        "id": "hJQK8f2JjKlI"
      },
      "execution_count": null,
      "outputs": []
    }
  ]
}